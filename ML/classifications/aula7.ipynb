{
 "cells": [
  {
   "cell_type": "code",
   "execution_count": 27,
   "metadata": {},
   "outputs": [],
   "source": [
    "from sklearn.datasets import load_breast_cancer\n",
    "from sklearn.linear_model import LogisticRegression\n",
    "from sklearn.model_selection import cross_val_score, StratifiedGroupKFold, GridSearchCV, train_test_split\n",
    "from sklearn.metrics import confusion_matrix, roc_curve, roc_auc_score\n",
    "import matplotlib.pyplot as plt\n",
    "import pandas as pd  \n",
    "import numpy as np"
   ]
  },
  {
   "cell_type": "code",
   "execution_count": 28,
   "metadata": {},
   "outputs": [],
   "source": [
    "# importando o banco de dados do sklearn , e transformando em um dataframe\n",
    "pd.set_option(\"display.max_columns\", 30)\n",
    "dados = load_breast_cancer()\n",
    "x = pd.DataFrame(dados.data, columns=[dados.feature_names])\n",
    "y = pd.Series(dados.target)"
   ]
  },
  {
   "cell_type": "code",
   "execution_count": 29,
   "metadata": {},
   "outputs": [
    {
     "data": {
      "text/plain": [
       "1    357\n",
       "0    212\n",
       "Name: count, dtype: int64"
      ]
     },
     "execution_count": 29,
     "metadata": {},
     "output_type": "execute_result"
    }
   ],
   "source": [
    "y.value_counts()"
   ]
  },
  {
   "cell_type": "code",
   "execution_count": 30,
   "metadata": {},
   "outputs": [
    {
     "name": "stderr",
     "output_type": "stream",
     "text": [
      "/home/marco/projects/machine_learning/venv/lib/python3.10/site-packages/sklearn/linear_model/_logistic.py:1207: UserWarning: Setting penalty=None will ignore the C and l1_ratio parameters\n",
      "  warnings.warn(\n",
      "/home/marco/projects/machine_learning/venv/lib/python3.10/site-packages/sklearn/linear_model/_logistic.py:465: ConvergenceWarning: lbfgs failed to converge (status=1):\n",
      "STOP: TOTAL NO. OF ITERATIONS REACHED LIMIT.\n",
      "\n",
      "Increase the number of iterations (max_iter) or scale the data as shown in:\n",
      "    https://scikit-learn.org/stable/modules/preprocessing.html\n",
      "Please also refer to the documentation for alternative solver options:\n",
      "    https://scikit-learn.org/stable/modules/linear_model.html#logistic-regression\n",
      "  n_iter_i = _check_optimize_result(\n"
     ]
    }
   ],
   "source": [
    "x_treino , x_teste, y_treino, y_teste = train_test_split(x, y, test_size= 0.30)\n",
    "modelo = LogisticRegression(C= 95, penalty =None)\n",
    "modelo.fit(x_treino, y_treino)\n",
    "resultado = modelo.score(x_teste, y_teste)"
   ]
  },
  {
   "cell_type": "code",
   "execution_count": 31,
   "metadata": {},
   "outputs": [
    {
     "name": "stdout",
     "output_type": "stream",
     "text": [
      "A acuracia é dada por 0.9415204678362573\n"
     ]
    }
   ],
   "source": [
    "print(f\"A acuracia é dada por {resultado}\")"
   ]
  },
  {
   "cell_type": "code",
   "execution_count": 32,
   "metadata": {},
   "outputs": [],
   "source": [
    "predicao = modelo.predict(x_teste)"
   ]
  },
  {
   "cell_type": "code",
   "execution_count": 33,
   "metadata": {},
   "outputs": [
    {
     "data": {
      "text/plain": [
       "array([0, 1, 1, 0, 0, 0, 0, 1, 1, 1, 1, 1, 1, 0, 0, 1, 1, 1, 1, 1, 0, 1,\n",
       "       1, 1, 1, 0, 1, 0, 1, 0, 1, 1, 0, 0, 1, 1, 1, 1, 0, 1, 0, 0, 1, 1,\n",
       "       0, 0, 0, 0, 0, 1, 0, 0, 1, 1, 1, 0, 1, 1, 0, 1, 1, 0, 1, 0, 1, 1,\n",
       "       1, 1, 0, 1, 0, 1, 1, 1, 0, 1, 1, 0, 1, 1, 1, 1, 0, 0, 0, 0, 1, 1,\n",
       "       1, 0, 1, 1, 1, 0, 1, 0, 0, 1, 1, 1, 1, 0, 0, 0, 1, 1, 0, 0, 0, 1,\n",
       "       1, 1, 0, 0, 1, 0, 1, 0, 1, 1, 1, 1, 1, 1, 1, 0, 0, 0, 0, 1, 0, 1,\n",
       "       1, 0, 1, 1, 0, 1, 0, 1, 1, 1, 0, 1, 1, 1, 1, 1, 0, 1, 0, 1, 1, 0,\n",
       "       0, 1, 1, 1, 1, 1, 1, 0, 0, 1, 1, 1, 0, 1, 1, 0, 1])"
      ]
     },
     "execution_count": 33,
     "metadata": {},
     "output_type": "execute_result"
    }
   ],
   "source": [
    "predicao"
   ]
  },
  {
   "cell_type": "code",
   "execution_count": 34,
   "metadata": {},
   "outputs": [
    {
     "name": "stdout",
     "output_type": "stream",
     "text": [
      "[[ 60   4]\n",
      " [  6 101]]\n"
     ]
    }
   ],
   "source": [
    "matriz = confusion_matrix(y_teste, predicao)\n",
    "print(matriz)"
   ]
  },
  {
   "cell_type": "code",
   "execution_count": 35,
   "metadata": {},
   "outputs": [
    {
     "data": {
      "text/plain": [
       "array([[9.99881118e-01, 1.18881818e-04],\n",
       "       [4.31807753e-02, 9.56819225e-01],\n",
       "       [1.83167253e-02, 9.81683275e-01],\n",
       "       [9.59432460e-01, 4.05675401e-02],\n",
       "       [9.99999999e-01, 7.57530037e-10],\n",
       "       [1.00000000e+00, 1.42405290e-27],\n",
       "       [9.99999993e-01, 7.22753585e-09],\n",
       "       [7.28253390e-04, 9.99271747e-01],\n",
       "       [8.04682428e-02, 9.19531757e-01],\n",
       "       [1.57433808e-03, 9.98425662e-01],\n",
       "       [2.38565429e-01, 7.61434571e-01],\n",
       "       [4.41278200e-03, 9.95587218e-01],\n",
       "       [1.19661340e-03, 9.98803387e-01],\n",
       "       [9.99616772e-01, 3.83228358e-04],\n",
       "       [9.51251143e-01, 4.87488571e-02],\n",
       "       [1.16791875e-04, 9.99883208e-01],\n",
       "       [9.09494091e-03, 9.90905059e-01],\n",
       "       [6.41470492e-04, 9.99358530e-01],\n",
       "       [5.76344321e-03, 9.94236557e-01],\n",
       "       [7.70942401e-03, 9.92290576e-01],\n",
       "       [1.00000000e+00, 4.25850970e-40],\n",
       "       [8.43642850e-04, 9.99156357e-01],\n",
       "       [1.01813276e-04, 9.99898187e-01],\n",
       "       [4.84284570e-05, 9.99951572e-01],\n",
       "       [1.39863488e-04, 9.99860137e-01],\n",
       "       [1.00000000e+00, 1.61648371e-29],\n",
       "       [1.55941293e-04, 9.99844059e-01],\n",
       "       [9.46112265e-01, 5.38877350e-02],\n",
       "       [3.75981742e-04, 9.99624018e-01],\n",
       "       [9.62087124e-01, 3.79128763e-02],\n",
       "       [5.89507094e-03, 9.94104929e-01],\n",
       "       [8.55006503e-04, 9.99144993e-01],\n",
       "       [9.99962502e-01, 3.74983150e-05],\n",
       "       [9.99314820e-01, 6.85179702e-04],\n",
       "       [5.60292339e-02, 9.43970766e-01],\n",
       "       [6.03110820e-05, 9.99939689e-01],\n",
       "       [8.04407689e-03, 9.91955923e-01],\n",
       "       [8.21205905e-02, 9.17879409e-01],\n",
       "       [9.99771211e-01, 2.28789030e-04],\n",
       "       [2.01781633e-02, 9.79821837e-01],\n",
       "       [9.99999054e-01, 9.45909749e-07],\n",
       "       [1.00000000e+00, 3.89175325e-17],\n",
       "       [1.00249575e-03, 9.98997504e-01],\n",
       "       [2.05269308e-02, 9.79473069e-01],\n",
       "       [9.99999927e-01, 7.31823762e-08],\n",
       "       [9.99999998e-01, 2.41727937e-09],\n",
       "       [1.00000000e+00, 4.27257261e-11],\n",
       "       [8.50100576e-01, 1.49899424e-01],\n",
       "       [9.60965677e-01, 3.90343232e-02],\n",
       "       [5.30940977e-03, 9.94690590e-01],\n",
       "       [9.99946609e-01, 5.33910560e-05],\n",
       "       [9.99999936e-01, 6.35259787e-08],\n",
       "       [9.91502807e-05, 9.99900850e-01],\n",
       "       [2.59322143e-03, 9.97406779e-01],\n",
       "       [2.99506552e-03, 9.97004934e-01],\n",
       "       [9.99518665e-01, 4.81334638e-04],\n",
       "       [1.72891594e-02, 9.82710841e-01],\n",
       "       [4.14386561e-03, 9.95856134e-01],\n",
       "       [6.81898770e-01, 3.18101230e-01],\n",
       "       [4.70370134e-05, 9.99952963e-01],\n",
       "       [4.37190482e-03, 9.95628095e-01],\n",
       "       [9.99996676e-01, 3.32421089e-06],\n",
       "       [1.66433794e-02, 9.83356621e-01],\n",
       "       [9.91192213e-01, 8.80778704e-03],\n",
       "       [3.20299446e-03, 9.96797006e-01],\n",
       "       [1.23443736e-01, 8.76556264e-01],\n",
       "       [5.37327667e-03, 9.94626723e-01],\n",
       "       [6.37558942e-05, 9.99936244e-01],\n",
       "       [1.00000000e+00, 3.38582541e-12],\n",
       "       [1.75223195e-01, 8.24776805e-01],\n",
       "       [9.82473355e-01, 1.75266449e-02],\n",
       "       [9.49671112e-04, 9.99050329e-01],\n",
       "       [1.06956215e-03, 9.98930438e-01],\n",
       "       [1.14416765e-03, 9.98855832e-01],\n",
       "       [9.99999945e-01, 5.46108317e-08],\n",
       "       [6.76586227e-04, 9.99323414e-01],\n",
       "       [4.98392351e-02, 9.50160765e-01],\n",
       "       [1.00000000e+00, 3.45956208e-13],\n",
       "       [5.01094822e-02, 9.49890518e-01],\n",
       "       [3.86094735e-05, 9.99961391e-01],\n",
       "       [1.78816510e-05, 9.99982118e-01],\n",
       "       [6.38270885e-04, 9.99361729e-01],\n",
       "       [9.95910926e-01, 4.08907381e-03],\n",
       "       [9.12702589e-01, 8.72974115e-02],\n",
       "       [9.97167149e-01, 2.83285066e-03],\n",
       "       [5.56245055e-01, 4.43754945e-01],\n",
       "       [5.23415917e-04, 9.99476584e-01],\n",
       "       [9.05020269e-03, 9.90949797e-01],\n",
       "       [2.08799217e-03, 9.97912008e-01],\n",
       "       [9.99998798e-01, 1.20210280e-06],\n",
       "       [2.68088954e-01, 7.31911046e-01],\n",
       "       [2.03099855e-03, 9.97969001e-01],\n",
       "       [2.30829080e-03, 9.97691709e-01],\n",
       "       [9.99991739e-01, 8.26089957e-06],\n",
       "       [3.32527325e-04, 9.99667473e-01],\n",
       "       [1.00000000e+00, 7.07306977e-11],\n",
       "       [9.99995530e-01, 4.46986829e-06],\n",
       "       [1.02533589e-04, 9.99897466e-01],\n",
       "       [1.43402861e-01, 8.56597139e-01],\n",
       "       [1.21394283e-03, 9.98786057e-01],\n",
       "       [4.86501086e-03, 9.95134989e-01],\n",
       "       [9.26336063e-01, 7.36639367e-02],\n",
       "       [9.99958053e-01, 4.19470332e-05],\n",
       "       [9.99835615e-01, 1.64385479e-04],\n",
       "       [3.31824820e-03, 9.96681752e-01],\n",
       "       [4.14833157e-05, 9.99958517e-01],\n",
       "       [9.99927450e-01, 7.25501480e-05],\n",
       "       [9.99914979e-01, 8.50205766e-05],\n",
       "       [1.00000000e+00, 4.87029448e-36],\n",
       "       [2.13458467e-04, 9.99786542e-01],\n",
       "       [3.49880367e-03, 9.96501196e-01],\n",
       "       [2.45460403e-04, 9.99754540e-01],\n",
       "       [9.84522083e-01, 1.54779175e-02],\n",
       "       [9.99992576e-01, 7.42358820e-06],\n",
       "       [2.17853689e-02, 9.78214631e-01],\n",
       "       [1.00000000e+00, 4.35598665e-13],\n",
       "       [9.30154898e-05, 9.99906985e-01],\n",
       "       [9.99840978e-01, 1.59022021e-04],\n",
       "       [6.19663835e-04, 9.99380336e-01],\n",
       "       [3.87405611e-01, 6.12594389e-01],\n",
       "       [1.28160773e-03, 9.98718392e-01],\n",
       "       [2.85052581e-05, 9.99971495e-01],\n",
       "       [1.44610133e-04, 9.99855390e-01],\n",
       "       [1.07184114e-01, 8.92815886e-01],\n",
       "       [2.46351132e-03, 9.97536489e-01],\n",
       "       [7.36106411e-01, 2.63893589e-01],\n",
       "       [9.99955042e-01, 4.49579592e-05],\n",
       "       [1.00000000e+00, 2.51388369e-16],\n",
       "       [1.00000000e+00, 3.80793460e-17],\n",
       "       [4.67366516e-02, 9.53263348e-01],\n",
       "       [9.91185942e-01, 8.81405784e-03],\n",
       "       [1.54897577e-03, 9.98451024e-01],\n",
       "       [3.54836091e-04, 9.99645164e-01],\n",
       "       [9.99997078e-01, 2.92190158e-06],\n",
       "       [7.12229836e-04, 9.99287770e-01],\n",
       "       [1.22407509e-01, 8.77592491e-01],\n",
       "       [9.71286512e-01, 2.87134879e-02],\n",
       "       [2.52234811e-01, 7.47765189e-01],\n",
       "       [9.99999998e-01, 2.18247657e-09],\n",
       "       [8.50835877e-05, 9.99914916e-01],\n",
       "       [4.79768028e-04, 9.99520232e-01],\n",
       "       [6.07910531e-02, 9.39208947e-01],\n",
       "       [9.99999903e-01, 9.66850243e-08],\n",
       "       [7.38144418e-04, 9.99261856e-01],\n",
       "       [7.18175645e-03, 9.92818244e-01],\n",
       "       [1.27993185e-03, 9.98720068e-01],\n",
       "       [1.35307813e-02, 9.86469219e-01],\n",
       "       [3.69095180e-04, 9.99630905e-01],\n",
       "       [1.00000000e+00, 2.43917460e-10],\n",
       "       [3.86674356e-02, 9.61332564e-01],\n",
       "       [9.41413448e-01, 5.85865517e-02],\n",
       "       [1.11202198e-02, 9.88879780e-01],\n",
       "       [1.19486458e-03, 9.98805135e-01],\n",
       "       [1.00000000e+00, 8.80951004e-12],\n",
       "       [9.99999934e-01, 6.59704348e-08],\n",
       "       [7.62015771e-03, 9.92379842e-01],\n",
       "       [7.34600924e-04, 9.99265399e-01],\n",
       "       [4.29315695e-03, 9.95706843e-01],\n",
       "       [8.85723334e-04, 9.99114277e-01],\n",
       "       [1.19643816e-02, 9.88035618e-01],\n",
       "       [7.04116193e-02, 9.29588381e-01],\n",
       "       [1.00000000e+00, 1.27680827e-14],\n",
       "       [1.00000000e+00, 3.52871380e-10],\n",
       "       [1.02743523e-03, 9.98972565e-01],\n",
       "       [1.70656307e-05, 9.99982934e-01],\n",
       "       [3.79131338e-04, 9.99620869e-01],\n",
       "       [9.89624155e-01, 1.03758450e-02],\n",
       "       [8.05479355e-04, 9.99194521e-01],\n",
       "       [3.80222354e-01, 6.19777646e-01],\n",
       "       [9.77761700e-01, 2.22383004e-02],\n",
       "       [1.20877001e-01, 8.79122999e-01]])"
      ]
     },
     "execution_count": 35,
     "metadata": {},
     "output_type": "execute_result"
    }
   ],
   "source": [
    "predicoes = modelo.predict_proba(x_teste)\n",
    "predicoes"
   ]
  },
  {
   "cell_type": "code",
   "execution_count": 36,
   "metadata": {},
   "outputs": [
    {
     "name": "stdout",
     "output_type": "stream",
     "text": [
      "TPR :[0.         0.00934579 0.76635514 0.76635514 0.81308411 0.81308411\n",
      " 0.91588785 0.91588785 0.95327103 0.95327103 0.96261682 0.96261682\n",
      " 0.98130841 0.98130841 1.         1.        ]\n",
      "FPR :[0.       0.       0.       0.015625 0.015625 0.046875 0.046875 0.0625\n",
      " 0.0625   0.078125 0.078125 0.1875   0.1875   0.203125 0.203125 1.      ]\n",
      "thresholds :[           inf 9.99982934e-01 9.79821837e-01 9.79473069e-01\n",
      " 9.50160765e-01 9.43970766e-01 7.61434571e-01 7.47765189e-01\n",
      " 4.43754945e-01 3.18101230e-01 2.63893589e-01 4.05675401e-02\n",
      " 3.79128763e-02 2.87134879e-02 1.75266449e-02 4.25850970e-40]\n"
     ]
    }
   ],
   "source": [
    "probs = predicoes[:, 1]\n",
    "fpr, tpr, thresholds = roc_curve(y_teste, probs)\n",
    "print(f'TPR :{tpr}')\n",
    "print(f'FPR :{fpr}')\n",
    "print(f'thresholds :{thresholds}')"
   ]
  },
  {
   "cell_type": "code",
   "execution_count": 37,
   "metadata": {},
   "outputs": [
    {
     "data": {
      "image/png": "[encoded data removed]",
      "text/plain": [
       "<Figure size 640x480 with 1 Axes>"
      ]
     },
     "metadata": {},
     "output_type": "display_data"
    }
   ],
   "source": [
    "plt.scatter(fpr, tpr)\n",
    "plt.show()"
   ]
  },
  {
   "cell_type": "code",
   "execution_count": 38,
   "metadata": {},
   "outputs": [
    {
     "name": "stdout",
     "output_type": "stream",
     "text": [
      "0.9840829439252337\n"
     ]
    }
   ],
   "source": [
    "print(roc_auc_score(y_teste, probs))\n"
   ]
  },
  {
   "cell_type": "code",
   "execution_count": null,
   "metadata": {},
   "outputs": [],
   "source": []
  }
 ],
 "metadata": {
  "kernelspec": {
   "display_name": "venv",
   "language": "python",
   "name": "python3"
  },
  "language_info": {
   "codemirror_mode": {
    "name": "ipython",
    "version": 3
   },
   "file_extension": ".py",
   "mimetype": "text/x-python",
   "name": "python",
   "nbconvert_exporter": "python",
   "pygments_lexer": "ipython3",
   "version": "3.10.12"
  }
 },
 "nbformat": 4,
 "nbformat_minor": 2
}
