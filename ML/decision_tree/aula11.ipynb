{
 "cells": [
  {
   "cell_type": "code",
   "execution_count": 11,
   "metadata": {},
   "outputs": [],
   "source": [
    "import pandas as pd\n",
    "from sklearn.tree import   DecisionTreeRegressor\n",
    "from sklearn.model_selection import cross_val_score, KFold, GridSearchCV, train_test_split\n",
    "from sklearn.metrics import median_absolute_error\n",
    "import numpy as np\n"
   ]
  },
  {
   "cell_type": "code",
   "execution_count": 4,
   "metadata": {},
   "outputs": [],
   "source": [
    "colunas = ['No' , 'gre' , 'toefl', 'rating', 'sop', 'lor', 'cgpa', 'research', 'chance']\n",
    "pd.set_option(\"display.max_columns\", 320)\n",
    "dados = pd.read_csv(\"/home/marco/projects/machine_learning/ML/archive4/Admission_Predict.csv\", names = colunas)\n",
    "# dados = pd.read_csv(\"kc_house_data.csv\")\n",
    "dados = dados.drop(0)\n",
    "dados.drop('No', axis=1, inplace=True)"
   ]
  },
  {
   "cell_type": "code",
   "execution_count": 5,
   "metadata": {},
   "outputs": [],
   "source": [
    "y = dados[\"chance\"]\n",
    "x = dados.drop('chance', axis=1)"
   ]
  },
  {
   "cell_type": "code",
   "execution_count": 6,
   "metadata": {},
   "outputs": [
    {
     "data": {
      "text/html": [
       "<div>\n",
       "<style scoped>\n",
       "    .dataframe tbody tr th:only-of-type {\n",
       "        vertical-align: middle;\n",
       "    }\n",
       "\n",
       "    .dataframe tbody tr th {\n",
       "        vertical-align: top;\n",
       "    }\n",
       "\n",
       "    .dataframe thead th {\n",
       "        text-align: right;\n",
       "    }\n",
       "</style>\n",
       "<table border=\"1\" class=\"dataframe\">\n",
       "  <thead>\n",
       "    <tr style=\"text-align: right;\">\n",
       "      <th></th>\n",
       "      <th>gre</th>\n",
       "      <th>toefl</th>\n",
       "      <th>rating</th>\n",
       "      <th>sop</th>\n",
       "      <th>lor</th>\n",
       "      <th>cgpa</th>\n",
       "      <th>research</th>\n",
       "    </tr>\n",
       "  </thead>\n",
       "  <tbody>\n",
       "    <tr>\n",
       "      <th>1</th>\n",
       "      <td>337</td>\n",
       "      <td>118</td>\n",
       "      <td>4</td>\n",
       "      <td>4.5</td>\n",
       "      <td>4.5</td>\n",
       "      <td>9.65</td>\n",
       "      <td>1</td>\n",
       "    </tr>\n",
       "    <tr>\n",
       "      <th>2</th>\n",
       "      <td>324</td>\n",
       "      <td>107</td>\n",
       "      <td>4</td>\n",
       "      <td>4</td>\n",
       "      <td>4.5</td>\n",
       "      <td>8.87</td>\n",
       "      <td>1</td>\n",
       "    </tr>\n",
       "    <tr>\n",
       "      <th>3</th>\n",
       "      <td>316</td>\n",
       "      <td>104</td>\n",
       "      <td>3</td>\n",
       "      <td>3</td>\n",
       "      <td>3.5</td>\n",
       "      <td>8</td>\n",
       "      <td>1</td>\n",
       "    </tr>\n",
       "    <tr>\n",
       "      <th>4</th>\n",
       "      <td>322</td>\n",
       "      <td>110</td>\n",
       "      <td>3</td>\n",
       "      <td>3.5</td>\n",
       "      <td>2.5</td>\n",
       "      <td>8.67</td>\n",
       "      <td>1</td>\n",
       "    </tr>\n",
       "    <tr>\n",
       "      <th>5</th>\n",
       "      <td>314</td>\n",
       "      <td>103</td>\n",
       "      <td>2</td>\n",
       "      <td>2</td>\n",
       "      <td>3</td>\n",
       "      <td>8.21</td>\n",
       "      <td>0</td>\n",
       "    </tr>\n",
       "  </tbody>\n",
       "</table>\n",
       "</div>"
      ],
      "text/plain": [
       "   gre toefl rating  sop  lor  cgpa research\n",
       "1  337   118      4  4.5  4.5  9.65        1\n",
       "2  324   107      4    4  4.5  8.87        1\n",
       "3  316   104      3    3  3.5     8        1\n",
       "4  322   110      3  3.5  2.5  8.67        1\n",
       "5  314   103      2    2    3  8.21        0"
      ]
     },
     "execution_count": 6,
     "metadata": {},
     "output_type": "execute_result"
    }
   ],
   "source": [
    "x.head()"
   ]
  },
  {
   "cell_type": "code",
   "execution_count": 7,
   "metadata": {},
   "outputs": [
    {
     "name": "stdout",
     "output_type": "stream",
     "text": [
      "Coeficiente de determiinação R2 0.6054545996997298\n"
     ]
    }
   ],
   "source": [
    "kfold = KFold(n_splits=5, random_state= 7, shuffle=True)\n",
    "\n",
    "modelo = DecisionTreeRegressor()\n",
    "resultado = cross_val_score(modelo, x, y, cv=kfold)\n",
    "print(f\"Coeficiente de determiinação R2 {resultado.mean()}\")"
   ]
  },
  {
   "cell_type": "code",
   "execution_count": 8,
   "metadata": {},
   "outputs": [
    {
     "name": "stdout",
     "output_type": "stream",
     "text": [
      "Minimo split: 4\n",
      "Maximo profundidade: 4\n",
      "Algoritmo escolhido: friedman_mse\n",
      "Acuracia: 0.705363149826271\n"
     ]
    },
    {
     "name": "stderr",
     "output_type": "stream",
     "text": [
      "/home/marco/projects/machine_learning/venv/lib/python3.10/site-packages/sklearn/model_selection/_validation.py:528: FitFailedWarning: \n",
      "420 fits failed out of a total of 630.\n",
      "The score on these train-test partitions for these parameters will be set to nan.\n",
      "If these failures are not expected, you can try to debug them by setting error_score='raise'.\n",
      "\n",
      "Below are more details about the failures:\n",
      "--------------------------------------------------------------------------------\n",
      "210 fits failed with the following error:\n",
      "Traceback (most recent call last):\n",
      "  File \"/home/marco/projects/machine_learning/venv/lib/python3.10/site-packages/sklearn/model_selection/_validation.py\", line 866, in _fit_and_score\n",
      "    estimator.fit(X_train, y_train, **fit_params)\n",
      "  File \"/home/marco/projects/machine_learning/venv/lib/python3.10/site-packages/sklearn/base.py\", line 1382, in wrapper\n",
      "    estimator._validate_params()\n",
      "  File \"/home/marco/projects/machine_learning/venv/lib/python3.10/site-packages/sklearn/base.py\", line 436, in _validate_params\n",
      "    validate_parameter_constraints(\n",
      "  File \"/home/marco/projects/machine_learning/venv/lib/python3.10/site-packages/sklearn/utils/_param_validation.py\", line 98, in validate_parameter_constraints\n",
      "    raise InvalidParameterError(\n",
      "sklearn.utils._param_validation.InvalidParameterError: The 'criterion' parameter of DecisionTreeRegressor must be a str among {'friedman_mse', 'squared_error', 'poisson', 'absolute_error'}. Got 'mse' instead.\n",
      "\n",
      "--------------------------------------------------------------------------------\n",
      "210 fits failed with the following error:\n",
      "Traceback (most recent call last):\n",
      "  File \"/home/marco/projects/machine_learning/venv/lib/python3.10/site-packages/sklearn/model_selection/_validation.py\", line 866, in _fit_and_score\n",
      "    estimator.fit(X_train, y_train, **fit_params)\n",
      "  File \"/home/marco/projects/machine_learning/venv/lib/python3.10/site-packages/sklearn/base.py\", line 1382, in wrapper\n",
      "    estimator._validate_params()\n",
      "  File \"/home/marco/projects/machine_learning/venv/lib/python3.10/site-packages/sklearn/base.py\", line 436, in _validate_params\n",
      "    validate_parameter_constraints(\n",
      "  File \"/home/marco/projects/machine_learning/venv/lib/python3.10/site-packages/sklearn/utils/_param_validation.py\", line 98, in validate_parameter_constraints\n",
      "    raise InvalidParameterError(\n",
      "sklearn.utils._param_validation.InvalidParameterError: The 'criterion' parameter of DecisionTreeRegressor must be a str among {'friedman_mse', 'squared_error', 'poisson', 'absolute_error'}. Got 'mae' instead.\n",
      "\n",
      "  warnings.warn(some_fits_failed_message, FitFailedWarning)\n",
      "/home/marco/projects/machine_learning/venv/lib/python3.10/site-packages/sklearn/model_selection/_search.py:1108: UserWarning: One or more of the test scores are non-finite: [       nan        nan        nan        nan        nan        nan\n",
      "        nan        nan        nan        nan        nan        nan\n",
      "        nan        nan        nan        nan        nan        nan\n",
      "        nan        nan        nan        nan        nan        nan\n",
      "        nan        nan        nan        nan        nan        nan\n",
      "        nan        nan        nan        nan        nan        nan\n",
      "        nan        nan        nan        nan        nan        nan\n",
      " 0.69992012 0.69992012 0.69992012 0.69992012 0.69992012 0.69992012\n",
      " 0.7047747  0.70536315 0.70536315 0.7047747  0.7047747  0.7047747\n",
      " 0.67117528 0.66956713 0.67147264 0.67338086 0.67474331 0.6739144\n",
      " 0.59336899 0.59878133 0.59923705 0.61567383 0.61802299 0.61891407\n",
      " 0.60318717 0.60635271 0.61533126 0.63334609 0.63272052 0.62765459\n",
      " 0.59475688 0.57766526 0.59033608 0.59685381 0.6154249  0.60849861\n",
      " 0.55555012 0.56979714 0.57810928 0.59534003 0.60014073 0.59978785\n",
      "        nan        nan        nan        nan        nan        nan\n",
      "        nan        nan        nan        nan        nan        nan\n",
      "        nan        nan        nan        nan        nan        nan\n",
      "        nan        nan        nan        nan        nan        nan\n",
      "        nan        nan        nan        nan        nan        nan\n",
      "        nan        nan        nan        nan        nan        nan\n",
      "        nan        nan        nan        nan        nan        nan]\n",
      "  warnings.warn(\n"
     ]
    }
   ],
   "source": [
    "minimos_splits= np.array([2, 3, 4, 5, 6, 7])\n",
    "maximo_nivel = np.array([3, 4, 5, 6, 7,  9, 11])\n",
    "\n",
    "algoritmo = ['mse', 'friedman_mse', 'mae']\n",
    "valores_grid = {'min_samples_split':minimos_splits, 'max_depth':maximo_nivel, 'criterion': algoritmo}\n",
    "\n",
    "modelo = DecisionTreeRegressor()\n",
    "\n",
    "gridDecisionTree = GridSearchCV(estimator= modelo, param_grid = valores_grid, cv=5)\n",
    "gridDecisionTree.fit(x, y)\n",
    "\n",
    "print(f\"Minimo split: {gridDecisionTree.best_estimator_.min_samples_split}\")\n",
    "print(f\"Maximo profundidade: {gridDecisionTree.best_estimator_.max_depth}\")\n",
    "print(f\"Algoritmo escolhido: {gridDecisionTree.best_estimator_.criterion}\")\n",
    "print(f\"Acuracia: {gridDecisionTree.best_score_}\")\n",
    "    "
   ]
  },
  {
   "cell_type": "code",
   "execution_count": 9,
   "metadata": {},
   "outputs": [
    {
     "name": "stdout",
     "output_type": "stream",
     "text": [
      "Minimo split: 2\n",
      "Maximo profundidade: 4\n",
      "Algoritmo escolhido: friedman_mse\n",
      "Acuracia: -0.005868366487749131\n"
     ]
    },
    {
     "name": "stderr",
     "output_type": "stream",
     "text": [
      "/home/marco/projects/machine_learning/venv/lib/python3.10/site-packages/sklearn/model_selection/_validation.py:528: FitFailedWarning: \n",
      "420 fits failed out of a total of 630.\n",
      "The score on these train-test partitions for these parameters will be set to nan.\n",
      "If these failures are not expected, you can try to debug them by setting error_score='raise'.\n",
      "\n",
      "Below are more details about the failures:\n",
      "--------------------------------------------------------------------------------\n",
      "210 fits failed with the following error:\n",
      "Traceback (most recent call last):\n",
      "  File \"/home/marco/projects/machine_learning/venv/lib/python3.10/site-packages/sklearn/model_selection/_validation.py\", line 866, in _fit_and_score\n",
      "    estimator.fit(X_train, y_train, **fit_params)\n",
      "  File \"/home/marco/projects/machine_learning/venv/lib/python3.10/site-packages/sklearn/base.py\", line 1382, in wrapper\n",
      "    estimator._validate_params()\n",
      "  File \"/home/marco/projects/machine_learning/venv/lib/python3.10/site-packages/sklearn/base.py\", line 436, in _validate_params\n",
      "    validate_parameter_constraints(\n",
      "  File \"/home/marco/projects/machine_learning/venv/lib/python3.10/site-packages/sklearn/utils/_param_validation.py\", line 98, in validate_parameter_constraints\n",
      "    raise InvalidParameterError(\n",
      "sklearn.utils._param_validation.InvalidParameterError: The 'criterion' parameter of DecisionTreeRegressor must be a str among {'friedman_mse', 'squared_error', 'poisson', 'absolute_error'}. Got 'mse' instead.\n",
      "\n",
      "--------------------------------------------------------------------------------\n",
      "210 fits failed with the following error:\n",
      "Traceback (most recent call last):\n",
      "  File \"/home/marco/projects/machine_learning/venv/lib/python3.10/site-packages/sklearn/model_selection/_validation.py\", line 866, in _fit_and_score\n",
      "    estimator.fit(X_train, y_train, **fit_params)\n",
      "  File \"/home/marco/projects/machine_learning/venv/lib/python3.10/site-packages/sklearn/base.py\", line 1382, in wrapper\n",
      "    estimator._validate_params()\n",
      "  File \"/home/marco/projects/machine_learning/venv/lib/python3.10/site-packages/sklearn/base.py\", line 436, in _validate_params\n",
      "    validate_parameter_constraints(\n",
      "  File \"/home/marco/projects/machine_learning/venv/lib/python3.10/site-packages/sklearn/utils/_param_validation.py\", line 98, in validate_parameter_constraints\n",
      "    raise InvalidParameterError(\n",
      "sklearn.utils._param_validation.InvalidParameterError: The 'criterion' parameter of DecisionTreeRegressor must be a str among {'friedman_mse', 'squared_error', 'poisson', 'absolute_error'}. Got 'mae' instead.\n",
      "\n",
      "  warnings.warn(some_fits_failed_message, FitFailedWarning)\n",
      "/home/marco/projects/machine_learning/venv/lib/python3.10/site-packages/sklearn/model_selection/_search.py:1108: UserWarning: One or more of the test scores are non-finite: [        nan         nan         nan         nan         nan         nan\n",
      "         nan         nan         nan         nan         nan         nan\n",
      "         nan         nan         nan         nan         nan         nan\n",
      "         nan         nan         nan         nan         nan         nan\n",
      "         nan         nan         nan         nan         nan         nan\n",
      "         nan         nan         nan         nan         nan         nan\n",
      "         nan         nan         nan         nan         nan         nan\n",
      " -0.00604234 -0.00604234 -0.00604234 -0.00604234 -0.00604234 -0.00604234\n",
      " -0.00586837 -0.00588429 -0.00588429 -0.00586837 -0.00588429 -0.00588429\n",
      " -0.00691279 -0.00679628 -0.00688647 -0.00686175 -0.00673828 -0.00669075\n",
      " -0.00792289 -0.00792635 -0.00797323 -0.00777604 -0.00774304 -0.00771108\n",
      " -0.00767968 -0.00790807 -0.00784917 -0.00771119 -0.00757925 -0.00755902\n",
      " -0.00838361 -0.00824733 -0.00798878 -0.00798289 -0.00778125 -0.00776021\n",
      " -0.00858977 -0.00851189 -0.00825293 -0.00806022 -0.00799312 -0.00772096\n",
      "         nan         nan         nan         nan         nan         nan\n",
      "         nan         nan         nan         nan         nan         nan\n",
      "         nan         nan         nan         nan         nan         nan\n",
      "         nan         nan         nan         nan         nan         nan\n",
      "         nan         nan         nan         nan         nan         nan\n",
      "         nan         nan         nan         nan         nan         nan\n",
      "         nan         nan         nan         nan         nan         nan]\n",
      "  warnings.warn(\n"
     ]
    }
   ],
   "source": [
    "minimos_splits= np.array([2, 3, 4, 5, 6, 7])\n",
    "maximo_nivel = np.array([3, 4, 5, 6, 7,  9, 11])\n",
    "\n",
    "algoritmo = ['mse', 'friedman_mse', 'mae']\n",
    "valores_grid = {'min_samples_split':minimos_splits, 'max_depth':maximo_nivel, 'criterion': algoritmo}\n",
    "\n",
    "modelo = DecisionTreeRegressor()\n",
    "\n",
    "gridDecisionTree = GridSearchCV(estimator= modelo, param_grid = valores_grid, cv=5, scoring= \"neg_mean_squared_error\")\n",
    "gridDecisionTree.fit(x, y)\n",
    "\n",
    "print(f\"Minimo split: {gridDecisionTree.best_estimator_.min_samples_split}\")\n",
    "print(f\"Maximo profundidade: {gridDecisionTree.best_estimator_.max_depth}\")\n",
    "print(f\"Algoritmo escolhido: {gridDecisionTree.best_estimator_.criterion}\")\n",
    "print(f\"Acuracia: {gridDecisionTree.best_score_}\")"
   ]
  },
  {
   "cell_type": "code",
   "execution_count": 12,
   "metadata": {},
   "outputs": [
    {
     "name": "stdout",
     "output_type": "stream",
     "text": [
      "Erro mediano medio 0.040000000000000036\n"
     ]
    }
   ],
   "source": [
    "x_train, x_test, y_train, y_test = train_test_split(x, y, test_size=0.2, random_state=42)\n",
    "modelo.fit(x_train, y_train)\n",
    "predicoes =  modelo.predict(x_test)\n",
    "erro = median_absolute_error(y_test, predicoes)\n",
    "print(f\"Erro mediano medio {erro}\")\n"
   ]
  },
  {
   "cell_type": "code",
   "execution_count": null,
   "metadata": {},
   "outputs": [],
   "source": []
  }
 ],
 "metadata": {
  "kernelspec": {
   "display_name": "venv",
   "language": "python",
   "name": "python3"
  },
  "language_info": {
   "codemirror_mode": {
    "name": "ipython",
    "version": 3
   },
   "file_extension": ".py",
   "mimetype": "text/x-python",
   "name": "python",
   "nbconvert_exporter": "python",
   "pygments_lexer": "ipython3",
   "version": "3.10.12"
  }
 },
 "nbformat": 4,
 "nbformat_minor": 2
}
