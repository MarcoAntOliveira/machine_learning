{
 "cells": [
  {
   "cell_type": "code",
   "execution_count": 20,
   "metadata": {},
   "outputs": [],
   "source": [
    "import pandas as pd\n",
    "from sklearn.tree import   DecisionTreeRegressor, DecisionTreeClassifier\n",
    "from sklearn.model_selection import cross_val_score, KFold, GridSearchCV, train_test_split\n",
    "import numpy as np\n",
    "import matplotlib.pyplot as plt"
   ]
  },
  {
   "cell_type": "code",
   "execution_count": null,
   "metadata": {},
   "outputs": [
    {
     "data": {
      "text/html": [
       "<div>\n",
       "<style scoped>\n",
       "    .dataframe tbody tr th:only-of-type {\n",
       "        vertical-align: middle;\n",
       "    }\n",
       "\n",
       "    .dataframe tbody tr th {\n",
       "        vertical-align: top;\n",
       "    }\n",
       "\n",
       "    .dataframe thead th {\n",
       "        text-align: right;\n",
       "    }\n",
       "</style>\n",
       "<table border=\"1\" class=\"dataframe\">\n",
       "  <thead>\n",
       "    <tr style=\"text-align: right;\">\n",
       "      <th></th>\n",
       "      <th>pelvic_incidence</th>\n",
       "      <th>pelvic_tilt numeric</th>\n",
       "      <th>lumbar_lordosis_angle</th>\n",
       "      <th>sacral_slope</th>\n",
       "      <th>pelvic_radius</th>\n",
       "      <th>degree_spondylolisthesis</th>\n",
       "      <th>class</th>\n",
       "    </tr>\n",
       "  </thead>\n",
       "  <tbody>\n",
       "    <tr>\n",
       "      <th>0</th>\n",
       "      <td>63.027817</td>\n",
       "      <td>22.552586</td>\n",
       "      <td>39.609117</td>\n",
       "      <td>40.475232</td>\n",
       "      <td>98.672917</td>\n",
       "      <td>-0.254400</td>\n",
       "      <td>Abnormal</td>\n",
       "    </tr>\n",
       "    <tr>\n",
       "      <th>1</th>\n",
       "      <td>39.056951</td>\n",
       "      <td>10.060991</td>\n",
       "      <td>25.015378</td>\n",
       "      <td>28.995960</td>\n",
       "      <td>114.405425</td>\n",
       "      <td>4.564259</td>\n",
       "      <td>Abnormal</td>\n",
       "    </tr>\n",
       "    <tr>\n",
       "      <th>2</th>\n",
       "      <td>68.832021</td>\n",
       "      <td>22.218482</td>\n",
       "      <td>50.092194</td>\n",
       "      <td>46.613539</td>\n",
       "      <td>105.985135</td>\n",
       "      <td>-3.530317</td>\n",
       "      <td>Abnormal</td>\n",
       "    </tr>\n",
       "    <tr>\n",
       "      <th>3</th>\n",
       "      <td>69.297008</td>\n",
       "      <td>24.652878</td>\n",
       "      <td>44.311238</td>\n",
       "      <td>44.644130</td>\n",
       "      <td>101.868495</td>\n",
       "      <td>11.211523</td>\n",
       "      <td>Abnormal</td>\n",
       "    </tr>\n",
       "    <tr>\n",
       "      <th>4</th>\n",
       "      <td>49.712859</td>\n",
       "      <td>9.652075</td>\n",
       "      <td>28.317406</td>\n",
       "      <td>40.060784</td>\n",
       "      <td>108.168725</td>\n",
       "      <td>7.918501</td>\n",
       "      <td>Abnormal</td>\n",
       "    </tr>\n",
       "  </tbody>\n",
       "</table>\n",
       "</div>"
      ],
      "text/plain": [
       "   pelvic_incidence  pelvic_tilt numeric  lumbar_lordosis_angle  sacral_slope  \\\n",
       "0         63.027817            22.552586              39.609117     40.475232   \n",
       "1         39.056951            10.060991              25.015378     28.995960   \n",
       "2         68.832021            22.218482              50.092194     46.613539   \n",
       "3         69.297008            24.652878              44.311238     44.644130   \n",
       "4         49.712859             9.652075              28.317406     40.060784   \n",
       "\n",
       "   pelvic_radius  degree_spondylolisthesis     class  \n",
       "0      98.672917                 -0.254400  Abnormal  \n",
       "1     114.405425                  4.564259  Abnormal  \n",
       "2     105.985135                 -3.530317  Abnormal  \n",
       "3     101.868495                 11.211523  Abnormal  \n",
       "4     108.168725                  7.918501  Abnormal  "
      ]
     },
     "execution_count": 7,
     "metadata": {},
     "output_type": "execute_result"
    }
   ],
   "source": [
    "pd.set_option(\"display.max_columns\", 320)\n",
    "dados = pd.read_csv(\"/home/marco/projects/machine_learning/ML/arquive7/column_2C_weka.csv\")\n",
    "dados.head()"
   ]
  },
  {
   "cell_type": "code",
   "execution_count": 8,
   "metadata": {},
   "outputs": [
    {
     "name": "stdout",
     "output_type": "stream",
     "text": [
      "pelvic_incidence            0.0\n",
      "pelvic_tilt numeric         0.0\n",
      "lumbar_lordosis_angle       0.0\n",
      "sacral_slope                0.0\n",
      "pelvic_radius               0.0\n",
      "degree_spondylolisthesis    0.0\n",
      "class                       0.0\n",
      "dtype: float64\n"
     ]
    }
   ],
   "source": [
    "faltantes_percentual = (dados.isnull().sum()/len(dados['pelvic_radius']))*100\n",
    "print(faltantes_percentual)"
   ]
  },
  {
   "cell_type": "code",
   "execution_count": 10,
   "metadata": {},
   "outputs": [
    {
     "data": {
      "text/plain": [
       "pelvic_incidence            float64\n",
       "pelvic_tilt numeric         float64\n",
       "lumbar_lordosis_angle       float64\n",
       "sacral_slope                float64\n",
       "pelvic_radius               float64\n",
       "degree_spondylolisthesis    float64\n",
       "class                        object\n",
       "dtype: object"
      ]
     },
     "execution_count": 10,
     "metadata": {},
     "output_type": "execute_result"
    }
   ],
   "source": [
    "dados.dtypes"
   ]
  },
  {
   "cell_type": "code",
   "execution_count": 12,
   "metadata": {},
   "outputs": [
    {
     "data": {
      "text/plain": [
       "0      Abnormal\n",
       "1      Abnormal\n",
       "2      Abnormal\n",
       "3      Abnormal\n",
       "4      Abnormal\n",
       "         ...   \n",
       "305      Normal\n",
       "306      Normal\n",
       "307      Normal\n",
       "308      Normal\n",
       "309      Normal\n",
       "Name: class, Length: 310, dtype: object"
      ]
     },
     "execution_count": 12,
     "metadata": {},
     "output_type": "execute_result"
    }
   ],
   "source": [
    "y = dados[\"class\"]\n",
    "x = dados.drop('class', axis=1)\n",
    "y"
   ]
  },
  {
   "cell_type": "code",
   "execution_count": 15,
   "metadata": {},
   "outputs": [
    {
     "name": "stderr",
     "output_type": "stream",
     "text": [
      "/tmp/ipykernel_7984/3412769697.py:2: FutureWarning: Downcasting behavior in `replace` is deprecated and will be removed in a future version. To retain the old behavior, explicitly call `result.infer_objects(copy=False)`. To opt-in to the future behavior, set `pd.set_option('future.no_silent_downcasting', True)`\n",
      "  y= y.replace(['Normal'] , 0)\n"
     ]
    }
   ],
   "source": [
    "y= y.replace(['Abnormal'] , 1)\n",
    "y= y.replace(['Normal'] , 0)"
   ]
  },
  {
   "cell_type": "code",
   "execution_count": 16,
   "metadata": {},
   "outputs": [
    {
     "name": "stdout",
     "output_type": "stream",
     "text": [
      "Coeficiente de determiinação R2 0.07131396705097663\n"
     ]
    }
   ],
   "source": [
    "kfold = KFold(n_splits=5, random_state= 7, shuffle=True)\n",
    "\n",
    "modelo = DecisionTreeRegressor()\n",
    "resultado = cross_val_score(modelo, x, y, cv=kfold)\n",
    "print(f\"Coeficiente de determiinação R2 {resultado.mean()}\")"
   ]
  },
  {
   "cell_type": "code",
   "execution_count": 17,
   "metadata": {},
   "outputs": [
    {
     "name": "stdout",
     "output_type": "stream",
     "text": [
      "Minimo split: 2\n",
      "Maximo profundidade: 3\n",
      "Algoritmo escolhido: friedman_mse\n",
      "Acuracia: 0.06501060472531509\n"
     ]
    },
    {
     "name": "stderr",
     "output_type": "stream",
     "text": [
      "/home/marco/projects/machine_learning/venv/lib/python3.10/site-packages/sklearn/model_selection/_validation.py:528: FitFailedWarning: \n",
      "420 fits failed out of a total of 630.\n",
      "The score on these train-test partitions for these parameters will be set to nan.\n",
      "If these failures are not expected, you can try to debug them by setting error_score='raise'.\n",
      "\n",
      "Below are more details about the failures:\n",
      "--------------------------------------------------------------------------------\n",
      "210 fits failed with the following error:\n",
      "Traceback (most recent call last):\n",
      "  File \"/home/marco/projects/machine_learning/venv/lib/python3.10/site-packages/sklearn/model_selection/_validation.py\", line 866, in _fit_and_score\n",
      "    estimator.fit(X_train, y_train, **fit_params)\n",
      "  File \"/home/marco/projects/machine_learning/venv/lib/python3.10/site-packages/sklearn/base.py\", line 1382, in wrapper\n",
      "    estimator._validate_params()\n",
      "  File \"/home/marco/projects/machine_learning/venv/lib/python3.10/site-packages/sklearn/base.py\", line 436, in _validate_params\n",
      "    validate_parameter_constraints(\n",
      "  File \"/home/marco/projects/machine_learning/venv/lib/python3.10/site-packages/sklearn/utils/_param_validation.py\", line 98, in validate_parameter_constraints\n",
      "    raise InvalidParameterError(\n",
      "sklearn.utils._param_validation.InvalidParameterError: The 'criterion' parameter of DecisionTreeRegressor must be a str among {'poisson', 'squared_error', 'absolute_error', 'friedman_mse'}. Got 'mse' instead.\n",
      "\n",
      "--------------------------------------------------------------------------------\n",
      "210 fits failed with the following error:\n",
      "Traceback (most recent call last):\n",
      "  File \"/home/marco/projects/machine_learning/venv/lib/python3.10/site-packages/sklearn/model_selection/_validation.py\", line 866, in _fit_and_score\n",
      "    estimator.fit(X_train, y_train, **fit_params)\n",
      "  File \"/home/marco/projects/machine_learning/venv/lib/python3.10/site-packages/sklearn/base.py\", line 1382, in wrapper\n",
      "    estimator._validate_params()\n",
      "  File \"/home/marco/projects/machine_learning/venv/lib/python3.10/site-packages/sklearn/base.py\", line 436, in _validate_params\n",
      "    validate_parameter_constraints(\n",
      "  File \"/home/marco/projects/machine_learning/venv/lib/python3.10/site-packages/sklearn/utils/_param_validation.py\", line 98, in validate_parameter_constraints\n",
      "    raise InvalidParameterError(\n",
      "sklearn.utils._param_validation.InvalidParameterError: The 'criterion' parameter of DecisionTreeRegressor must be a str among {'poisson', 'squared_error', 'absolute_error', 'friedman_mse'}. Got 'mae' instead.\n",
      "\n",
      "  warnings.warn(some_fits_failed_message, FitFailedWarning)\n",
      "/home/marco/projects/machine_learning/venv/lib/python3.10/site-packages/sklearn/model_selection/_search.py:1108: UserWarning: One or more of the test scores are non-finite: [        nan         nan         nan         nan         nan         nan\n",
      "         nan         nan         nan         nan         nan         nan\n",
      "         nan         nan         nan         nan         nan         nan\n",
      "         nan         nan         nan         nan         nan         nan\n",
      "         nan         nan         nan         nan         nan         nan\n",
      "         nan         nan         nan         nan         nan         nan\n",
      "         nan         nan         nan         nan         nan         nan\n",
      "  0.0650106   0.0650106   0.0650106   0.0650106   0.0650106   0.0650106\n",
      "  0.02143805  0.02143805  0.02143805  0.02143805  0.02143805  0.02143805\n",
      "  0.01071236  0.01071236  0.01071236  0.01071236  0.0156071   0.0156071\n",
      " -0.00947682 -0.02307331 -0.00947682 -0.00947682  0.01282143  0.0075339\n",
      " -0.02396442 -0.01036793 -0.02547515 -0.01187865  0.01193031  0.00664279\n",
      " -0.00394737 -0.03114035 -0.00696881 -0.01187865  0.01041959  0.00513207\n",
      " -0.03114035 -0.00394737 -0.02207602 -0.02547515 -0.00166618  0.00513207\n",
      "         nan         nan         nan         nan         nan         nan\n",
      "         nan         nan         nan         nan         nan         nan\n",
      "         nan         nan         nan         nan         nan         nan\n",
      "         nan         nan         nan         nan         nan         nan\n",
      "         nan         nan         nan         nan         nan         nan\n",
      "         nan         nan         nan         nan         nan         nan\n",
      "         nan         nan         nan         nan         nan         nan]\n",
      "  warnings.warn(\n"
     ]
    }
   ],
   "source": [
    "minimos_splits= np.array([2, 3, 4, 5, 6, 7])\n",
    "maximo_nivel = np.array([3, 4, 5, 6, 7,  9, 11])\n",
    "\n",
    "algoritmo = ['mse', 'friedman_mse', 'mae']\n",
    "valores_grid = {'min_samples_split':minimos_splits, 'max_depth':maximo_nivel, 'criterion': algoritmo}\n",
    "\n",
    "modelo = DecisionTreeRegressor()\n",
    "\n",
    "gridDecisionTree = GridSearchCV(estimator= modelo, param_grid = valores_grid, cv=5)\n",
    "gridDecisionTree.fit(x, y)\n",
    "\n",
    "print(f\"Minimo split: {gridDecisionTree.best_estimator_.min_samples_split}\")\n",
    "print(f\"Maximo profundidade: {gridDecisionTree.best_estimator_.max_depth}\")\n",
    "print(f\"Algoritmo escolhido: {gridDecisionTree.best_estimator_.criterion}\")\n",
    "print(f\"Acuracia: {gridDecisionTree.best_score_}\")\n",
    "    "
   ]
  },
  {
   "cell_type": "code",
   "execution_count": 23,
   "metadata": {},
   "outputs": [
    {
     "name": "stdout",
     "output_type": "stream",
     "text": [
      "Minimo split2\n",
      "Maximo profundidade4\n",
      "Algoritmo escolhidogini\n",
      "Acuracia0.7865306122448978\n"
     ]
    }
   ],
   "source": [
    "\n",
    "minimos_splits = np.array([2, 3, 4, 5, 6, 7, 8])\n",
    "maximo_nivel =  np.array([ 3, 4, 5, 6])\n",
    "\n",
    "x_train, x_test, y_train, y_test = train_test_split(x, y, test_size=0.2, random_state=42)\n",
    "\n",
    "algoritmo = ['gini', 'entropy']\n",
    "valores_grid = {'min_samples_split': minimos_splits, \"max_depth\": maximo_nivel, \"criterion\": algoritmo}\n",
    "modelo = DecisionTreeClassifier()\n",
    "\n",
    "gridDecisionTree = GridSearchCV(estimator=modelo, param_grid=valores_grid, cv=5)\n",
    "gridDecisionTree.fit(x_train, y_train)\n",
    "\n",
    "print(f\"Minimo split{gridDecisionTree.best_estimator_.min_samples_split}\")\n",
    "print(f\"Maximo profundidade{gridDecisionTree.best_estimator_.max_depth}\")\n",
    "print(f\"Algoritmo escolhido{gridDecisionTree.best_estimator_.criterion}\")\n",
    "print(f\"Acuracia{gridDecisionTree.best_score_}\")"
   ]
  },
  {
   "cell_type": "code",
   "execution_count": null,
   "metadata": {},
   "outputs": [],
   "source": []
  }
 ],
 "metadata": {
  "kernelspec": {
   "display_name": "venv",
   "language": "python",
   "name": "python3"
  },
  "language_info": {
   "codemirror_mode": {
    "name": "ipython",
    "version": 3
   },
   "file_extension": ".py",
   "mimetype": "text/x-python",
   "name": "python",
   "nbconvert_exporter": "python",
   "pygments_lexer": "ipython3",
   "version": "3.10.12"
  }
 },
 "nbformat": 4,
 "nbformat_minor": 2
}
